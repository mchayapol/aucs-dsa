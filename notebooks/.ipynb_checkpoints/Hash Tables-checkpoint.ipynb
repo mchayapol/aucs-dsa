{
  "cells": [
    {
      "metadata": {
        "collapsed": true,
        "slideshow": {
          "slide_type": "fragment"
        }
      },
      "cell_type": "markdown",
      "source": "# Hash Tables"
    },
    {
      "metadata": {
        "trusted": false
      },
      "cell_type": "code",
      "source": "m = 5\nT = [None] * m\nprint(T)",
      "execution_count": 48,
      "outputs": [
        {
          "name": "stdout",
          "output_type": "stream",
          "text": "[None, None, None, None, None]\n"
        }
      ]
    },
    {
      "metadata": {
        "trusted": false
      },
      "cell_type": "code",
      "source": "class Data:\n    def __init__(self,k,v):\n        self.k = k\n        self.v = v\n        \n    def __repr__(self):\n        return \"%s:%s\"%(self.k,self.v)",
      "execution_count": 49,
      "outputs": []
    },
    {
      "metadata": {},
      "cell_type": "markdown",
      "source": "### Note on Object To String Conversion\n`__repr__` is like Java's `toString()`.  \nIt is the default method which will be called when the object is casted as a string."
    },
    {
      "metadata": {},
      "cell_type": "markdown",
      "source": "# Hash Function"
    },
    {
      "metadata": {
        "trusted": false
      },
      "cell_type": "code",
      "source": "def h(k):\n    global m\n    return k % m",
      "execution_count": 50,
      "outputs": []
    },
    {
      "metadata": {
        "trusted": false
      },
      "cell_type": "code",
      "source": "def hash_insert(T,x):\n    T[h(x.k)] = x",
      "execution_count": 51,
      "outputs": []
    },
    {
      "metadata": {
        "trusted": false
      },
      "cell_type": "code",
      "source": "x1 = Data(1,'Jack')\nx2 = Data(2,'John')\nprint(T)\nhash_insert(T,x1)\nhash_insert(T,x2)\nprint(T)",
      "execution_count": 52,
      "outputs": [
        {
          "name": "stdout",
          "output_type": "stream",
          "text": "[None, None, None, None, None]\n[None, 1:Jack, 2:John, None, None]\n"
        }
      ]
    },
    {
      "metadata": {},
      "cell_type": "markdown",
      "source": "# Collision\n`hash_insert()` will just override the slot."
    },
    {
      "metadata": {
        "trusted": false
      },
      "cell_type": "code",
      "source": "x1 = Data(1,'Jack')\nx2 = Data(6,'John')\nm = 5\nT = [None] * m\nprint(T)\n\nhash_insert(T,x1)\nhash_insert(T,x2)\nprint(T)",
      "execution_count": 53,
      "outputs": [
        {
          "name": "stdout",
          "output_type": "stream",
          "text": "[None, None, None, None, None]\n[None, 6:John, None, None, None]\n"
        }
      ]
    },
    {
      "metadata": {},
      "cell_type": "markdown",
      "source": "# Open Addressing\n## Linear Probing\nThe following `hash_insert2()` implements `HASH-INSERT()` on page 238.  \n`hash_insert2(T,x6)` will cause Table Overflow.  \n  \n**Why?  \nIs it even possible to insert into the table?**  \n  \nComment it out by putting a `#` at the beginning of the line to run the code with no error."
    },
    {
      "metadata": {
        "trusted": false
      },
      "cell_type": "code",
      "source": "m = 5\nT = [None] * m\n\ndef h2(k,i):\n    global m\n    return (h(k) + i) % m # guard with m, otherwise index out of bound\n\n# Linear Probing\ndef hash_insert2(T,x):\n    global m\n    i = 0    \n    while i < m:\n        j = h2(x.k,i)\n        if T[j] == None:\n            T[j] = x\n            return j\n        else:\n            i = i + 1\n        \n    raise Exception(\"Table Overflow\")\n    \n    \nx1 = Data(1,'A')\nx2 = Data(6,'B')\nx3 = Data(11,'C')\nx4 = Data(16,'D')\nx5 = Data(21,'E')\nx6 = Data(26,'F')\n\nhash_insert2(T,x1)\nhash_insert2(T,x2)\nhash_insert2(T,x3)\nhash_insert2(T,x4)\nhash_insert2(T,x5)\nhash_insert2(T,x6) # This insertion will cause Table Overflow\nprint(T)\n",
      "execution_count": 54,
      "outputs": [
        {
          "ename": "Exception",
          "evalue": "Table Overflow",
          "output_type": "error",
          "traceback": [
            "\u001b[0;31m---------------------------------------------------------------------------\u001b[0m",
            "\u001b[0;31mException\u001b[0m                                 Traceback (most recent call last)",
            "\u001b[0;32m<ipython-input-54-b4854f0aa35b>\u001b[0m in \u001b[0;36m<module>\u001b[0;34m()\u001b[0m\n\u001b[1;32m     33\u001b[0m \u001b[0mhash_insert2\u001b[0m\u001b[0;34m(\u001b[0m\u001b[0mT\u001b[0m\u001b[0;34m,\u001b[0m\u001b[0mx4\u001b[0m\u001b[0;34m)\u001b[0m\u001b[0;34m\u001b[0m\u001b[0m\n\u001b[1;32m     34\u001b[0m \u001b[0mhash_insert2\u001b[0m\u001b[0;34m(\u001b[0m\u001b[0mT\u001b[0m\u001b[0;34m,\u001b[0m\u001b[0mx5\u001b[0m\u001b[0;34m)\u001b[0m\u001b[0;34m\u001b[0m\u001b[0m\n\u001b[0;32m---> 35\u001b[0;31m \u001b[0mhash_insert2\u001b[0m\u001b[0;34m(\u001b[0m\u001b[0mT\u001b[0m\u001b[0;34m,\u001b[0m\u001b[0mx6\u001b[0m\u001b[0;34m)\u001b[0m \u001b[0;31m# This insertion will cause Table Overflow\u001b[0m\u001b[0;34m\u001b[0m\u001b[0m\n\u001b[0m\u001b[1;32m     36\u001b[0m \u001b[0mprint\u001b[0m\u001b[0;34m(\u001b[0m\u001b[0mT\u001b[0m\u001b[0;34m)\u001b[0m\u001b[0;34m\u001b[0m\u001b[0m\n",
            "\u001b[0;32m<ipython-input-54-b4854f0aa35b>\u001b[0m in \u001b[0;36mhash_insert2\u001b[0;34m(T, x)\u001b[0m\n\u001b[1;32m     18\u001b[0m             \u001b[0mi\u001b[0m \u001b[0;34m=\u001b[0m \u001b[0mi\u001b[0m \u001b[0;34m+\u001b[0m \u001b[0;36m1\u001b[0m\u001b[0;34m\u001b[0m\u001b[0m\n\u001b[1;32m     19\u001b[0m \u001b[0;34m\u001b[0m\u001b[0m\n\u001b[0;32m---> 20\u001b[0;31m     \u001b[0;32mraise\u001b[0m \u001b[0mException\u001b[0m\u001b[0;34m(\u001b[0m\u001b[0;34m\"Table Overflow\"\u001b[0m\u001b[0;34m)\u001b[0m\u001b[0;34m\u001b[0m\u001b[0m\n\u001b[0m\u001b[1;32m     21\u001b[0m \u001b[0;34m\u001b[0m\u001b[0m\n\u001b[1;32m     22\u001b[0m \u001b[0;34m\u001b[0m\u001b[0m\n",
            "\u001b[0;31mException\u001b[0m: Table Overflow"
          ]
        }
      ]
    },
    {
      "metadata": {},
      "cell_type": "markdown",
      "source": "# Delete\nSearch for the right element and then delete (assign None)."
    },
    {
      "metadata": {
        "trusted": false
      },
      "cell_type": "code",
      "source": "m = 5\nT = [None] * m\ndef hash_delete2(T,k):\n    global m\n    i = 0\n    j = h2(k,i)\n    while T[j] != None or str(T[j].k) != '#' or i < m:\n        if T[j].k == k:\n            T[j] = None\n            return j\n        i += 1\n        j = h2(k,i)\n    return None\n        \nhash_insert2(T,x1)\nhash_insert2(T,x2)\nhash_insert2(T,x3)\nhash_insert2(T,x4)\nhash_insert2(T,x5)\nhash_delete2(T,1) # On successful delete, it returns the recently deleted index.\nprint(T)",
      "execution_count": null,
      "outputs": []
    },
    {
      "metadata": {},
      "cell_type": "markdown",
      "source": "# Search\n**There is a problem!**  \nIf we find None at the hashed slot,  \nhow can we be sure that our desire element is not in the next slot (due to probing)."
    },
    {
      "metadata": {
        "trusted": false
      },
      "cell_type": "code",
      "source": "# Use the previous T\ndef hash_search(T,k):\n    global m\n    i = 0\n    j = h2(k,i)\n    while T[j] != None and i < m:\n        print(j,T[j])\n        if T[j].k == k:\n            return j\n        i += 1\n        j = h2(k,i)\n    return None\n\nprint(T)\nj = hash_search(T,11) # Should find index of k=11, but no\nif j != None:\n    print(T[j])\nelse:\n    print('key not found')",
      "execution_count": null,
      "outputs": []
    },
    {
      "metadata": {},
      "cell_type": "markdown",
      "source": "# Delete + Tombstone\nSearch for the right element and then **mark as delete**  \nMost part of the delete() is to search for the right place.  \nSee the next section for search function."
    },
    {
      "metadata": {
        "trusted": false
      },
      "cell_type": "code",
      "source": "m = 5\nT = [None] * m\ndef hash_delete2(T,k):\n    global m\n    i = 0\n    j = h2(k,i)\n    while (T[j] != None or str(T[j].k) != '#') and i < m:\n        if T[j].k == k:\n            T[j] = '#'\n            return j\n        i += 1\n        j = h2(k,i)\n    return None\n        \nhash_insert2(T,x1)\nhash_insert2(T,x2)\nhash_insert2(T,x3)\nhash_insert2(T,x4)\nhash_insert2(T,x5)\nhash_delete2(T,1) # On successful delete, it returns the recently deleted index.\nprint(T)",
      "execution_count": 56,
      "outputs": [
        {
          "name": "stdout",
          "output_type": "stream",
          "text": "[21:E, '#', 6:B, 11:C, 16:D]\n"
        }
      ]
    },
    {
      "metadata": {},
      "cell_type": "markdown",
      "source": "# Search with Tombstone\n**Walk over the tomb stone.**  \nPython does not have repeat loop, only for and while.  \nTherefore implementing the algorithm needs a careful attention."
    },
    {
      "metadata": {
        "trusted": false
      },
      "cell_type": "code",
      "source": "# Use the previous T\ndef hash_search2(T,k):\n    global m\n    i = 0\n    j = h2(k,i)\n    while (T[j] != None or str(T[j]) != '#') and i < m:\n        if str(T[j]) != '#' and T[j].k == k:\n            return j\n        i += 1\n        j = h2(k,i)\n    return None\n\nj = hash_search2(T,1)\nprint(T)\nif j == None:\n    print('Key not found')\nelse:\n    print(T[j]) # Should return 21:E",
      "execution_count": 62,
      "outputs": [
        {
          "name": "stdout",
          "output_type": "stream",
          "text": "[21:E, '#', 6:B, 11:C, 16:D]\nKey not found\n"
        }
      ]
    },
    {
      "metadata": {},
      "cell_type": "markdown",
      "source": "# Note on Tombstone\nINSERT() needs to be improved to detect an empty slot with None and '#'.  \nThe current version of INSERT() only checks for None."
    },
    {
      "metadata": {},
      "cell_type": "markdown",
      "source": "# Chaining\nSimply use list.  \n**In this example, every element will be appended to the same bucket.**"
    },
    {
      "metadata": {
        "trusted": false
      },
      "cell_type": "code",
      "source": "m = 5\nT = [None]*m # List of list\ndef hash_insert(T,x):\n    global m\n    k = h(x.k)\n    if T[k] == None:\n        T[k] = []\n    T[k].append(x)\n    \nx1 = Data(1,'A')\nx2 = Data(6,'B')\nx3 = Data(11,'C')\nx4 = Data(16,'D')\nx5 = Data(21,'E')\nx6 = Data(26,'F')\n\nhash_insert(T,x1)\nhash_insert(T,x2)\nhash_insert(T,x3)\nhash_insert(T,x4)\nhash_insert(T,x5)\nhash_insert(T,x6)\nprint(T)\n",
      "execution_count": null,
      "outputs": []
    },
    {
      "metadata": {},
      "cell_type": "markdown",
      "source": "# Delete with Chaining\n**Task:** Insert your code below"
    },
    {
      "metadata": {
        "trusted": false
      },
      "cell_type": "code",
      "source": "# Your code goes here\npass",
      "execution_count": null,
      "outputs": []
    },
    {
      "metadata": {},
      "cell_type": "markdown",
      "source": "# Search with Chaining\n**Task:** Insert your code below"
    },
    {
      "metadata": {
        "trusted": false
      },
      "cell_type": "code",
      "source": "# Your code goes here\npass",
      "execution_count": null,
      "outputs": []
    }
  ],
  "metadata": {
    "kernelspec": {
      "name": "python36",
      "display_name": "Python 3.6",
      "language": "python"
    },
    "language_info": {
      "mimetype": "text/x-python",
      "nbconvert_exporter": "python",
      "name": "python",
      "pygments_lexer": "ipython3",
      "version": "3.6.6",
      "file_extension": ".py",
      "codemirror_mode": {
        "version": 3,
        "name": "ipython"
      }
    }
  },
  "nbformat": 4,
  "nbformat_minor": 2
}