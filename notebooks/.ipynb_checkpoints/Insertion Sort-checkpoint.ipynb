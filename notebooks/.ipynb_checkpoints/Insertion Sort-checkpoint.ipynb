{
  "cells": [
    {
      "metadata": {},
      "cell_type": "markdown",
      "source": "# Insertion Sort\nSimple implementation of Insertion Sort.  \nThis demonstrate that the sorting algorithmn is $O(n^2)$\n\nThe sorting algorithm is shown below."
    },
    {
      "metadata": {
        "trusted": true
      },
      "cell_type": "code",
      "source": "counter = 0\ndef insertion_sort(a):\n    global counter\n    counter = 0\n    for j in range(1, len(a)):\n        key = a[j]\n        i = j - 1\n        while i >= 0 and a[i] > key:\n            counter += 1\n            a[i + 1] = a[i]\n            i = i - 1\n        a[i + 1] = key",
      "execution_count": 14,
      "outputs": []
    },
    {
      "metadata": {},
      "cell_type": "markdown",
      "source": "# Sort some data\nArray A contains 10 numbers.  \nThe sorting function is called and the result is inplace."
    },
    {
      "metadata": {
        "trusted": true
      },
      "cell_type": "code",
      "source": "A = [9, 8, 7, 6, 5, 4, 3, 2, 1, 20]",
      "execution_count": 15,
      "outputs": []
    },
    {
      "metadata": {
        "trusted": true
      },
      "cell_type": "code",
      "source": "# now sort it\ninsertion_sort(A)",
      "execution_count": 16,
      "outputs": []
    },
    {
      "metadata": {
        "trusted": true
      },
      "cell_type": "code",
      "source": "counter,len(A),A",
      "execution_count": 18,
      "outputs": [
        {
          "output_type": "execute_result",
          "execution_count": 18,
          "data": {
            "text/plain": "(36, 10, [1, 2, 3, 4, 5, 6, 7, 8, 9, 20])"
          },
          "metadata": {}
        }
      ]
    },
    {
      "metadata": {},
      "cell_type": "markdown",
      "source": "# Generate bigger data"
    },
    {
      "metadata": {
        "trusted": true
      },
      "cell_type": "code",
      "source": "import random\ndataSize = 3000\ndata = []\nfor x in range(0,dataSize):\n    data.append(random.randint(0,dataSize))\n    \n# print(\"Data size {}\".format(len(data)))\ninsertion_sort(data)\ncounter,len(data)",
      "execution_count": 32,
      "outputs": [
        {
          "output_type": "execute_result",
          "execution_count": 32,
          "data": {
            "text/plain": "(2294287, 3000)"
          },
          "metadata": {}
        }
      ]
    },
    {
      "metadata": {},
      "cell_type": "markdown",
      "source": "## Results\n| n    | t     |\n|------|-------|\n| 100  | 2458  |\n| 200  | 10915 |\n| 300  | 22397 |\n| 1000 | 245731 |\n| 2000 | 1038001 |\n| 3000 | 2294287 |"
    },
    {
      "metadata": {
        "trusted": true
      },
      "cell_type": "code",
      "source": "import matplotlib\nimport matplotlib.pyplot as plt\nimport numpy as np\n\n# Data for plotting\nn = [100,200,300,1000,2000,3000]\nt = [2458,10915,22397,245731,1038001,2294287]\n\nfig, ax = plt.subplots()\nax.plot(n, t)\n\nax.set(xlabel='data items (n)', ylabel='times (t)',\n       title='Running Time')\nax.grid()\n\n# fig.savefig(\"test.png\")\nplt.show()",
      "execution_count": 33,
      "outputs": [
        {
          "output_type": "display_data",
          "data": {
            "image/png": "[encoded data removed]",
            "text/plain": "<Figure size 432x288 with 1 Axes>"
          },
          "metadata": {
            "needs_background": "light"
          }
        }
      ]
    },
    {
      "metadata": {
        "trusted": true
      },
      "cell_type": "code",
      "source": "",
      "execution_count": 26,
      "outputs": []
    },
    {
      "metadata": {
        "trusted": true
      },
      "cell_type": "code",
      "source": "",
      "execution_count": null,
      "outputs": []
    }
  ],
  "metadata": {
    "kernelspec": {
      "name": "python36",
      "display_name": "Python 3.6",
      "language": "python"
    },
    "language_info": {
      "mimetype": "text/x-python",
      "nbconvert_exporter": "python",
      "name": "python",
      "pygments_lexer": "ipython3",
      "version": "3.6.6",
      "file_extension": ".py",
      "codemirror_mode": {
        "version": 3,
        "name": "ipython"
      }
    }
  },
  "nbformat": 4,
  "nbformat_minor": 2
}