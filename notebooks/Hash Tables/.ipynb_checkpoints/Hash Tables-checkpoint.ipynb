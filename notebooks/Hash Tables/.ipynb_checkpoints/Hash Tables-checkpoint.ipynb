{
 "cells": [
  {
   "cell_type": "markdown",
   "metadata": {
    "collapsed": true,
    "slideshow": {
     "slide_type": "fragment"
    }
   },
   "source": [
    "# Hash Tables"
   ]
  },
  {
   "cell_type": "code",
   "execution_count": 48,
   "metadata": {},
   "outputs": [
    {
     "name": "stdout",
     "output_type": "stream",
     "text": [
      "[None, None, None, None, None]\n"
     ]
    }
   ],
   "source": [
    "m = 5\n",
    "T = [None] * m\n",
    "print(T)"
   ]
  },
  {
   "cell_type": "code",
   "execution_count": 49,
   "metadata": {},
   "outputs": [],
   "source": [
    "class Data:\n",
    "    def __init__(self,k,v):\n",
    "        self.k = k\n",
    "        self.v = v\n",
    "        \n",
    "    def __repr__(self):\n",
    "        return \"%s:%s\"%(self.k,self.v)"
   ]
  },
  {
   "cell_type": "markdown",
   "metadata": {},
   "source": [
    "### Note on Object To String Conversion\n",
    "`__repr__` is like Java's `toString()`.  \n",
    "It is the default method which will be called when the object is casted as a string."
   ]
  },
  {
   "cell_type": "markdown",
   "metadata": {},
   "source": [
    "# Hash Function"
   ]
  },
  {
   "cell_type": "code",
   "execution_count": 50,
   "metadata": {},
   "outputs": [],
   "source": [
    "def h(k):\n",
    "    global m\n",
    "    return k % m"
   ]
  },
  {
   "cell_type": "code",
   "execution_count": 51,
   "metadata": {},
   "outputs": [],
   "source": [
    "def hash_insert(T,x):\n",
    "    T[h(x.k)] = x"
   ]
  },
  {
   "cell_type": "code",
   "execution_count": 52,
   "metadata": {},
   "outputs": [
    {
     "name": "stdout",
     "output_type": "stream",
     "text": [
      "[None, None, None, None, None]\n",
      "[None, 1:Jack, 2:John, None, None]\n"
     ]
    }
   ],
   "source": [
    "x1 = Data(1,'Jack')\n",
    "x2 = Data(2,'John')\n",
    "print(T)\n",
    "hash_insert(T,x1)\n",
    "hash_insert(T,x2)\n",
    "print(T)"
   ]
  },
  {
   "cell_type": "markdown",
   "metadata": {},
   "source": [
    "# Collision\n",
    "`hash_insert()` will just override the slot."
   ]
  },
  {
   "cell_type": "code",
   "execution_count": 53,
   "metadata": {},
   "outputs": [
    {
     "name": "stdout",
     "output_type": "stream",
     "text": [
      "[None, None, None, None, None]\n",
      "[None, 6:John, None, None, None]\n"
     ]
    }
   ],
   "source": [
    "x1 = Data(1,'Jack')\n",
    "x2 = Data(6,'John')\n",
    "m = 5\n",
    "T = [None] * m\n",
    "print(T)\n",
    "\n",
    "hash_insert(T,x1)\n",
    "hash_insert(T,x2)\n",
    "print(T)"
   ]
  },
  {
   "cell_type": "markdown",
   "metadata": {},
   "source": [
    "# Open Addressing\n",
    "## Linear Probing\n",
    "The following `hash_insert2()` implements `HASH-INSERT()` on page 238.  \n",
    "`hash_insert2(T,x6)` will cause Table Overflow.  \n",
    "  \n",
    "**Why?  \n",
    "Is it even possible to insert into the table?**  \n",
    "  \n",
    "Comment it out by putting a `#` at the beginning of the line to run the code with no error."
   ]
  },
  {
   "cell_type": "code",
   "execution_count": 54,
   "metadata": {},
   "outputs": [
    {
     "ename": "Exception",
     "evalue": "Table Overflow",
     "output_type": "error",
     "traceback": [
      "\u001b[0;31m---------------------------------------------------------------------------\u001b[0m",
      "\u001b[0;31mException\u001b[0m                                 Traceback (most recent call last)",
      "\u001b[0;32m<ipython-input-54-b4854f0aa35b>\u001b[0m in \u001b[0;36m<module>\u001b[0;34m()\u001b[0m\n\u001b[1;32m     33\u001b[0m \u001b[0mhash_insert2\u001b[0m\u001b[0;34m(\u001b[0m\u001b[0mT\u001b[0m\u001b[0;34m,\u001b[0m\u001b[0mx4\u001b[0m\u001b[0;34m)\u001b[0m\u001b[0;34m\u001b[0m\u001b[0m\n\u001b[1;32m     34\u001b[0m \u001b[0mhash_insert2\u001b[0m\u001b[0;34m(\u001b[0m\u001b[0mT\u001b[0m\u001b[0;34m,\u001b[0m\u001b[0mx5\u001b[0m\u001b[0;34m)\u001b[0m\u001b[0;34m\u001b[0m\u001b[0m\n\u001b[0;32m---> 35\u001b[0;31m \u001b[0mhash_insert2\u001b[0m\u001b[0;34m(\u001b[0m\u001b[0mT\u001b[0m\u001b[0;34m,\u001b[0m\u001b[0mx6\u001b[0m\u001b[0;34m)\u001b[0m \u001b[0;31m# This insertion will cause Table Overflow\u001b[0m\u001b[0;34m\u001b[0m\u001b[0m\n\u001b[0m\u001b[1;32m     36\u001b[0m \u001b[0mprint\u001b[0m\u001b[0;34m(\u001b[0m\u001b[0mT\u001b[0m\u001b[0;34m)\u001b[0m\u001b[0;34m\u001b[0m\u001b[0m\n",
      "\u001b[0;32m<ipython-input-54-b4854f0aa35b>\u001b[0m in \u001b[0;36mhash_insert2\u001b[0;34m(T, x)\u001b[0m\n\u001b[1;32m     18\u001b[0m             \u001b[0mi\u001b[0m \u001b[0;34m=\u001b[0m \u001b[0mi\u001b[0m \u001b[0;34m+\u001b[0m \u001b[0;36m1\u001b[0m\u001b[0;34m\u001b[0m\u001b[0m\n\u001b[1;32m     19\u001b[0m \u001b[0;34m\u001b[0m\u001b[0m\n\u001b[0;32m---> 20\u001b[0;31m     \u001b[0;32mraise\u001b[0m \u001b[0mException\u001b[0m\u001b[0;34m(\u001b[0m\u001b[0;34m\"Table Overflow\"\u001b[0m\u001b[0;34m)\u001b[0m\u001b[0;34m\u001b[0m\u001b[0m\n\u001b[0m\u001b[1;32m     21\u001b[0m \u001b[0;34m\u001b[0m\u001b[0m\n\u001b[1;32m     22\u001b[0m \u001b[0;34m\u001b[0m\u001b[0m\n",
      "\u001b[0;31mException\u001b[0m: Table Overflow"
     ]
    }
   ],
   "source": [
    "m = 5\n",
    "T = [None] * m\n",
    "\n",
    "def h2(k,i):\n",
    "    global m\n",
    "    return (h(k) + i) % m # guard with m, otherwise index out of bound\n",
    "\n",
    "# Linear Probing\n",
    "def hash_insert2(T,x):\n",
    "    global m\n",
    "    i = 0    \n",
    "    while i < m:\n",
    "        j = h2(x.k,i)\n",
    "        if T[j] == None:\n",
    "            T[j] = x\n",
    "            return j\n",
    "        else:\n",
    "            i = i + 1\n",
    "        \n",
    "    raise Exception(\"Table Overflow\")\n",
    "    \n",
    "    \n",
    "x1 = Data(1,'A')\n",
    "x2 = Data(6,'B')\n",
    "x3 = Data(11,'C')\n",
    "x4 = Data(16,'D')\n",
    "x5 = Data(21,'E')\n",
    "x6 = Data(26,'F')\n",
    "\n",
    "hash_insert2(T,x1)\n",
    "hash_insert2(T,x2)\n",
    "hash_insert2(T,x3)\n",
    "hash_insert2(T,x4)\n",
    "hash_insert2(T,x5)\n",
    "hash_insert2(T,x6) # This insertion will cause Table Overflow\n",
    "print(T)\n"
   ]
  },
  {
   "cell_type": "markdown",
   "metadata": {},
   "source": [
    "# Delete\n",
    "Search for the right element and then delete (assign None)."
   ]
  },
  {
   "cell_type": "code",
   "execution_count": null,
   "metadata": {},
   "outputs": [],
   "source": [
    "m = 5\n",
    "T = [None] * m\n",
    "def hash_delete2(T,k):\n",
    "    global m\n",
    "    i = 0\n",
    "    j = h2(k,i)\n",
    "    while T[j] != None or str(T[j].k) != '#' or i < m:\n",
    "        if T[j].k == k:\n",
    "            T[j] = None\n",
    "            return j\n",
    "        i += 1\n",
    "        j = h2(k,i)\n",
    "    return None\n",
    "        \n",
    "hash_insert2(T,x1)\n",
    "hash_insert2(T,x2)\n",
    "hash_insert2(T,x3)\n",
    "hash_insert2(T,x4)\n",
    "hash_insert2(T,x5)\n",
    "hash_delete2(T,1) # On successful delete, it returns the recently deleted index.\n",
    "print(T)"
   ]
  },
  {
   "cell_type": "markdown",
   "metadata": {},
   "source": [
    "# Search\n",
    "**There is a problem!**  \n",
    "If we find None at the hashed slot,  \n",
    "how can we be sure that our desire element is not in the next slot (due to probing)."
   ]
  },
  {
   "cell_type": "code",
   "execution_count": null,
   "metadata": {},
   "outputs": [],
   "source": [
    "# Use the previous T\n",
    "def hash_search(T,k):\n",
    "    global m\n",
    "    i = 0\n",
    "    j = h2(k,i)\n",
    "    while T[j] != None and i < m:\n",
    "        print(j,T[j])\n",
    "        if T[j].k == k:\n",
    "            return j\n",
    "        i += 1\n",
    "        j = h2(k,i)\n",
    "    return None\n",
    "\n",
    "print(T)\n",
    "j = hash_search(T,11) # Should find index of k=11, but no\n",
    "if j != None:\n",
    "    print(T[j])\n",
    "else:\n",
    "    print('key not found')"
   ]
  },
  {
   "cell_type": "markdown",
   "metadata": {},
   "source": [
    "# Delete + Tomb Stone\n",
    "Search for the right element and then **mark as delete**  \n",
    "Most part of the delete() is to search for the right place.  \n",
    "See the next section for search function."
   ]
  },
  {
   "cell_type": "code",
   "execution_count": 56,
   "metadata": {},
   "outputs": [
    {
     "name": "stdout",
     "output_type": "stream",
     "text": [
      "[21:E, '#', 6:B, 11:C, 16:D]\n"
     ]
    }
   ],
   "source": [
    "m = 5\n",
    "T = [None] * m\n",
    "def hash_delete2(T,k):\n",
    "    global m\n",
    "    i = 0\n",
    "    j = h2(k,i)\n",
    "    while (T[j] != None or str(T[j].k) != '#') and i < m:\n",
    "        if T[j].k == k:\n",
    "            T[j] = '#'\n",
    "            return j\n",
    "        i += 1\n",
    "        j = h2(k,i)\n",
    "    return None\n",
    "        \n",
    "hash_insert2(T,x1)\n",
    "hash_insert2(T,x2)\n",
    "hash_insert2(T,x3)\n",
    "hash_insert2(T,x4)\n",
    "hash_insert2(T,x5)\n",
    "hash_delete2(T,1) # On successful delete, it returns the recently deleted index.\n",
    "print(T)"
   ]
  },
  {
   "cell_type": "markdown",
   "metadata": {},
   "source": [
    "# Search with Thombstone\n",
    "**Walk over the tomb stone.**  \n",
    "Python does not have repeat loop, only for and while.  \n",
    "Therefore implementing the algorithm needs a careful attention."
   ]
  },
  {
   "cell_type": "code",
   "execution_count": 62,
   "metadata": {},
   "outputs": [
    {
     "name": "stdout",
     "output_type": "stream",
     "text": [
      "[21:E, '#', 6:B, 11:C, 16:D]\n",
      "Key not found\n"
     ]
    }
   ],
   "source": [
    "# Use the previous T\n",
    "def hash_search2(T,k):\n",
    "    global m\n",
    "    i = 0\n",
    "    j = h2(k,i)\n",
    "    while (T[j] != None or str(T[j]) != '#') and i < m:\n",
    "        if str(T[j]) != '#' and T[j].k == k:\n",
    "            return j\n",
    "        i += 1\n",
    "        j = h2(k,i)\n",
    "    return None\n",
    "\n",
    "j = hash_search2(T,1)\n",
    "print(T)\n",
    "if j == None:\n",
    "    print('Key not found')\n",
    "else:\n",
    "    print(T[j]) # Should return 21:E"
   ]
  },
  {
   "cell_type": "markdown",
   "metadata": {},
   "source": [
    "# Note on Tombstone\n",
    "INSERT() needs to be improved to detect an empty slot with None and '#'.  \n",
    "The current version of INSERT() only checks for None."
   ]
  },
  {
   "cell_type": "markdown",
   "metadata": {},
   "source": [
    "# Chaining\n",
    "Simply use list.  \n",
    "**In this example, every element will be appended to the same bucket.**"
   ]
  },
  {
   "cell_type": "code",
   "execution_count": null,
   "metadata": {},
   "outputs": [],
   "source": [
    "m = 5\n",
    "T = [None]*m # List of list\n",
    "def hash_insert(T,x):\n",
    "    global m\n",
    "    k = h(x.k)\n",
    "    if T[k] == None:\n",
    "        T[k] = []\n",
    "    T[k].append(x)\n",
    "    \n",
    "x1 = Data(1,'A')\n",
    "x2 = Data(6,'B')\n",
    "x3 = Data(11,'C')\n",
    "x4 = Data(16,'D')\n",
    "x5 = Data(21,'E')\n",
    "x6 = Data(26,'F')\n",
    "\n",
    "hash_insert(T,x1)\n",
    "hash_insert(T,x2)\n",
    "hash_insert(T,x3)\n",
    "hash_insert(T,x4)\n",
    "hash_insert(T,x5)\n",
    "hash_insert(T,x6)\n",
    "print(T)\n"
   ]
  },
  {
   "cell_type": "markdown",
   "metadata": {},
   "source": [
    "# Delete with Chaining\n",
    "**Task:** Insert your code below"
   ]
  },
  {
   "cell_type": "code",
   "execution_count": null,
   "metadata": {},
   "outputs": [],
   "source": [
    "# Your code goes here\n",
    "pass"
   ]
  },
  {
   "cell_type": "markdown",
   "metadata": {},
   "source": [
    "# Search with Chaining\n",
    "**Task:** Insert your code below"
   ]
  },
  {
   "cell_type": "code",
   "execution_count": null,
   "metadata": {},
   "outputs": [],
   "source": [
    "# Your code goes here\n",
    "pass"
   ]
  }
 ],
 "metadata": {
  "kernelspec": {
   "display_name": "Python 3.6",
   "language": "python",
   "name": "python36"
  },
  "language_info": {
   "codemirror_mode": {
    "name": "ipython",
    "version": 3
   },
   "file_extension": ".py",
   "mimetype": "text/x-python",
   "name": "python",
   "nbconvert_exporter": "python",
   "pygments_lexer": "ipython3",
   "version": "3.6.3"
  }
 },
 "nbformat": 4,
 "nbformat_minor": 2
}
