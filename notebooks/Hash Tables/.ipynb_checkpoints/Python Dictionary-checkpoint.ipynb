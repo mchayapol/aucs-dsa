{
 "cells": [
  {
   "cell_type": "code",
   "execution_count": 1,
   "metadata": {},
   "outputs": [],
   "source": [
    "class Data:\n",
    "    def __init__(self,k,v):\n",
    "        self.k = k\n",
    "        self.v = v\n",
    "        \n",
    "    def __repr__(self):\n",
    "        return \"%s:%s\"%(self.k,self.v)"
   ]
  },
  {
   "cell_type": "markdown",
   "metadata": {},
   "source": [
    "# Dictionary\n",
    "Declare with `{}`"
   ]
  },
  {
   "cell_type": "code",
   "execution_count": 9,
   "metadata": {},
   "outputs": [
    {
     "name": "stdout",
     "output_type": "stream",
     "text": [
      "{1: 1:A, 6: 6:B, 'u142': u142:C, 'a81': a81:D, 21: 21:E, 26: 26:F}\n",
      "u142:C\n",
      "26:F\n"
     ]
    }
   ],
   "source": [
    "T = {}\n",
    "x1 = Data(1,'A')\n",
    "x2 = Data(6,'B')\n",
    "x3 = Data('u142','C')\n",
    "x4 = Data('a81','D')\n",
    "x5 = Data(21,'E')\n",
    "x6 = Data(26,'F')\n",
    "T[x1.k] = x1\n",
    "T[x2.k] = x2\n",
    "T[x3.k] = x3\n",
    "T[x4.k] = x4\n",
    "T[x5.k] = x5\n",
    "T[x6.k] = x6\n",
    "\n",
    "print(T)\n",
    "\n",
    "# Use the key as the index\n",
    "print(T['u142'])\n",
    "print(T[26])"
   ]
  },
  {
   "cell_type": "code",
   "execution_count": 11,
   "metadata": {},
   "outputs": [
    {
     "name": "stdout",
     "output_type": "stream",
     "text": [
      "{1: 1:A, 6: 6:B, 'u142': u142:C, 'a81': a81:D, 21: 21:E}\n"
     ]
    }
   ],
   "source": [
    "del T[26]\n",
    "print(T)"
   ]
  }
 ],
 "metadata": {
  "kernelspec": {
   "display_name": "Python 3.6",
   "language": "python",
   "name": "python36"
  },
  "language_info": {
   "codemirror_mode": {
    "name": "ipython",
    "version": 3
   },
   "file_extension": ".py",
   "mimetype": "text/x-python",
   "name": "python",
   "nbconvert_exporter": "python",
   "pygments_lexer": "ipython3",
   "version": "3.6.3"
  }
 },
 "nbformat": 4,
 "nbformat_minor": 2
}
