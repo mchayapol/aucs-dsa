{
 "cells": [
  {
   "cell_type": "markdown",
   "metadata": {
    "collapsed": true
   },
   "source": [
    "# Linked List\n",
    "In this notebook, we will focus at **doubly linked list** only as it is more complicated than **singly linked list**.  \n",
    "You can always trim down the more complicated one to the simplier one.  \n",
    "First, we need to define list element, which `class` is an appropriate way to do."
   ]
  },
  {
   "cell_type": "code",
   "execution_count": 4,
   "metadata": {},
   "outputs": [],
   "source": [
    "class Node:\n",
    "    def  __init__(self,key):\n",
    "        self.key = key\n",
    "        self.data = None\n",
    "        self.prev = None\n",
    "        self.next = None\n",
    "\n",
    "        \n",
    "H = Node(None) # head[L] sentinel\n",
    "H.next = H.prev = H"
   ]
  },
  {
   "cell_type": "markdown",
   "metadata": {},
   "source": [
    "We need to observe the list. The following function prints the content of the list."
   ]
  },
  {
   "cell_type": "code",
   "execution_count": 5,
   "metadata": {},
   "outputs": [],
   "source": [
    "def list_print(L):\n",
    "    B = L.next\n",
    "    while B != L:\n",
    "        print(B.key,end=' ')\n",
    "        B = B.next"
   ]
  },
  {
   "cell_type": "markdown",
   "metadata": {},
   "source": [
    "## 1. Insert\n",
    "Pseudocode is not programming code. Mapping the idea is important. Here is the list of some confusions.\n",
    "\n",
    "| Pseudocode   |  Python  |\n",
    "|:------------:|:--------:|\n",
    "| head[L]      | `H`      |\n",
    "| nil[L]       | `T`      |\n",
    "| prev[x]      |`x.prev`  |\n",
    "| next[x]      |`x.next`  |\n",
    "| key[x]       |`x.key`   |\n"
   ]
  },
  {
   "cell_type": "code",
   "execution_count": 10,
   "metadata": {},
   "outputs": [
    {
     "name": "stdout",
     "output_type": "stream",
     "text": [
      "40 30 20 "
     ]
    }
   ],
   "source": [
    "def list_insert(L,x):\n",
    "    x.next = L.next\n",
    "    L.next.prev = x\n",
    "    L.next = x\n",
    "    x.prev = L\n",
    "\n",
    "T = Node(None) # nil[L] sentinel, no need for head[L] in the sentinel-based algorithm\n",
    "T.next = T.prev = T\n",
    "\n",
    "list_insert(T,Node(20))\n",
    "list_insert(T,Node(30))\n",
    "list_insert(T,Node(40))\n",
    "list_print(T)"
   ]
  },
  {
   "cell_type": "markdown",
   "metadata": {},
   "source": [
    "The behaviour of the list can be controlled as you wish.  \n",
    "Such as maintaining the sorted list with modified `list_insert()`."
   ]
  },
  {
   "cell_type": "markdown",
   "metadata": {},
   "source": [
    "## 2. Search\n",
    "Search for a `Node` from a given key."
   ]
  },
  {
   "cell_type": "code",
   "execution_count": 12,
   "metadata": {},
   "outputs": [
    {
     "name": "stdout",
     "output_type": "stream",
     "text": [
      "30\n",
      "None\n"
     ]
    }
   ],
   "source": [
    "def list_search(L,k):\n",
    "    x = L.next\n",
    "    while x != L and x.key != k:\n",
    "        x = x.next\n",
    "    return x\n",
    "\n",
    "T = Node(None) # nil[L] sentinel\n",
    "T.next = T.prev = T\n",
    "\n",
    "list_insert(T,Node(20))\n",
    "list_insert(T,Node(30))\n",
    "list_insert(T,Node(40))\n",
    "\n",
    "x = list_search(T,30)\n",
    "print(x.key) # should find 30 and print 30\n",
    "\n",
    "x = list_search(H,100) # search for something the doesn't exist\n",
    "print(x.key) # should not find 100 and print None"
   ]
  },
  {
   "cell_type": "markdown",
   "metadata": {},
   "source": [
    "## 3. Delete\n",
    "Delete a node from the given node. We must search the list to obtain the node reference to pass to delete function."
   ]
  },
  {
   "cell_type": "code",
   "execution_count": 13,
   "metadata": {},
   "outputs": [
    {
     "name": "stdout",
     "output_type": "stream",
     "text": [
      "40 20 "
     ]
    }
   ],
   "source": [
    "def list_delete(L,x):\n",
    "    x.prev.next = x.next\n",
    "    x.next.prev = x.prev\n",
    "    \n",
    "T = Node(None) # nil[L] sentinel\n",
    "T.next = T.prev = T\n",
    "\n",
    "list_insert(T,Node(20))\n",
    "list_insert(T,Node(30))\n",
    "list_insert(T,Node(40))\n",
    "\n",
    "x = list_search(T,30)\n",
    "list_delete(T,x)\n",
    "list_print(T)"
   ]
  },
  {
   "cell_type": "markdown",
   "metadata": {},
   "source": [
    "### Task 1:\n",
    "Modify `list_insert()` to maintain the list in ascending order.  \n",
    "For example, inserting 3,1,4,2 and call `list_print()` will print  \n",
    "`1 2 3 4`"
   ]
  },
  {
   "cell_type": "code",
   "execution_count": 14,
   "metadata": {},
   "outputs": [],
   "source": [
    "def list_insert(L,x):\n",
    "    pass\n",
    "\n",
    "T = Node(None) # nil[L] sentinel\n",
    "T.next = T.prev = T\n",
    "\n",
    "list_insert(T,Node(3))\n",
    "list_insert(T,Node(1))\n",
    "list_insert(T,Node(4))\n",
    "list_insert(T,Node(2))\n",
    "\n",
    "list_print(T)"
   ]
  }
 ],
 "metadata": {
  "kernelspec": {
   "display_name": "Python 3.6",
   "language": "python",
   "name": "python36"
  },
  "language_info": {
   "codemirror_mode": {
    "name": "ipython",
    "version": 3
   },
   "file_extension": ".py",
   "mimetype": "text/x-python",
   "name": "python",
   "nbconvert_exporter": "python",
   "pygments_lexer": "ipython3",
   "version": "3.6.3"
  }
 },
 "nbformat": 4,
 "nbformat_minor": 2
}
