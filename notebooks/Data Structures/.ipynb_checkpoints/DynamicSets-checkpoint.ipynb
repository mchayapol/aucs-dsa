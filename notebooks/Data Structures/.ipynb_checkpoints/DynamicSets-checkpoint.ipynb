{
 "cells": [
  {
   "cell_type": "markdown",
   "metadata": {},
   "source": [
    "# Set in Python\n",
    "**List** is a basic data structure in Python. It can be accessed as Array with index. However, **Set** is different. Python's Set is the same as set in mathemetics. **List** and **Set** are different.\n",
    "1. List has order, Set does not.\n",
    "2. List holds duplicate values, Set does not."
   ]
  },
  {
   "cell_type": "markdown",
   "metadata": {},
   "source": [
    "## 1. Create List and Set\n",
    "Observe the following object creation for `list` and `set`. Set `s\n",
    "` does not hold duplicate value."
   ]
  },
  {
   "cell_type": "code",
   "execution_count": 59,
   "metadata": {},
   "outputs": [],
   "source": [
    "l = list(\"Hello World\")\n",
    "s = set(\"Hello World\")\n",
    "# or this works too\n",
    "s = {'H','e','l','l','o',' ','W','o','r','l','d'}"
   ]
  },
  {
   "cell_type": "code",
   "execution_count": 60,
   "metadata": {},
   "outputs": [
    {
     "data": {
      "text/plain": [
       "['H', 'e', 'l', 'l', 'o', ' ', 'W', 'o', 'r', 'l', 'd']"
      ]
     },
     "execution_count": 60,
     "metadata": {},
     "output_type": "execute_result"
    }
   ],
   "source": [
    "l"
   ]
  },
  {
   "cell_type": "code",
   "execution_count": 61,
   "metadata": {},
   "outputs": [
    {
     "data": {
      "text/plain": [
       "{' ', 'H', 'W', 'd', 'e', 'l', 'o', 'r'}"
      ]
     },
     "execution_count": 61,
     "metadata": {},
     "output_type": "execute_result"
    }
   ],
   "source": [
    "s"
   ]
  },
  {
   "cell_type": "markdown",
   "metadata": {},
   "source": [
    "### Task 1:\n",
    "Check the type of `l` and `s`.  \n",
    "Check the type of a Python variable with ```type(varname)```.  \n",
    "Replace `pass` with your code."
   ]
  },
  {
   "cell_type": "code",
   "execution_count": 83,
   "metadata": {},
   "outputs": [],
   "source": [
    "pass"
   ]
  },
  {
   "cell_type": "markdown",
   "metadata": {},
   "source": [
    "## 2. Set Operations\n",
    "`set` holds pointers of elements, not the value itself.  \n",
    "Observe that `y` points to `x` hence they points to the same data object `10` in the computer memory. `set` is immutable, therefore we cannot change the member of it unless using set operations.\n",
    "- union `|` \n",
    "- difference `-`\n",
    "- intersect `&`"
   ]
  },
  {
   "cell_type": "code",
   "execution_count": 17,
   "metadata": {},
   "outputs": [],
   "source": [
    "s = set()\n",
    "x = 10\n",
    "y = x\n",
    "s = s | {x}\n",
    "s = s | {y}"
   ]
  },
  {
   "cell_type": "markdown",
   "metadata": {},
   "source": [
    "### Task 2.1:\n",
    "Enter `s` to print out the content/value of `s`.\n",
    "What are in the set?  \n",
    "Should there not be two `10`s? Why?"
   ]
  },
  {
   "cell_type": "code",
   "execution_count": 84,
   "metadata": {},
   "outputs": [],
   "source": [
    "pass"
   ]
  },
  {
   "cell_type": "markdown",
   "metadata": {},
   "source": [
    "### Task 2.2:\n",
    "Consider the following. What are in the set?  \n",
    "Add a new line in the following cell with just `s` to print out the content."
   ]
  },
  {
   "cell_type": "code",
   "execution_count": 21,
   "metadata": {},
   "outputs": [],
   "source": [
    "s = set()\n",
    "x = 10\n",
    "y = 10\n",
    "s = s | {x}\n",
    "s = s | {y}"
   ]
  },
  {
   "cell_type": "markdown",
   "metadata": {},
   "source": [
    "### Task 2.3:\n",
    "Use set difference to delete a set member. Given set `s` with initial values {10,20,30}.\n",
    "- Use set difference to delete 10\n",
    "- Print out the content of s"
   ]
  },
  {
   "cell_type": "code",
   "execution_count": 30,
   "metadata": {},
   "outputs": [],
   "source": [
    "s =  {10, 20, 30}"
   ]
  },
  {
   "cell_type": "markdown",
   "metadata": {},
   "source": [
    "Check the existence of a value.  \n",
    "Use set intersec operation.  \n",
    "However, there is no direct API for existence checking; therefore we determine from the length of the new set."
   ]
  },
  {
   "cell_type": "code",
   "execution_count": 40,
   "metadata": {},
   "outputs": [
    {
     "data": {
      "text/plain": [
       "0"
      ]
     },
     "execution_count": 40,
     "metadata": {},
     "output_type": "execute_result"
    }
   ],
   "source": [
    "s = {10, 20, 30}\n",
    "k = 40\n",
    "s = s & {k}\n",
    "len(s)"
   ]
  },
  {
   "cell_type": "markdown",
   "metadata": {},
   "source": [
    "### Task 2.4:\n",
    "Make it a function.\n",
    "Write a function to check whether a key exists in the set.  \n",
    "The given code skeleton is incomplete. Replace `pass` with your code.  \n",
    "** Hint: ** `return` something."
   ]
  },
  {
   "cell_type": "code",
   "execution_count": 41,
   "metadata": {},
   "outputs": [],
   "source": [
    "s = {10, 20, 30}\n",
    "def search(S,k):\n",
    "    pass"
   ]
  },
  {
   "cell_type": "markdown",
   "metadata": {},
   "source": [
    "## 3. Max and Min\n",
    "Once again, there is no direct API to serve such purposes. A solution is to do **O(n)** search.  \n",
    "The following function returns the maximum key of a given set.  \n",
    "Assume that the set holds only numbers."
   ]
  },
  {
   "cell_type": "code",
   "execution_count": 43,
   "metadata": {},
   "outputs": [
    {
     "data": {
      "text/plain": [
       "20"
      ]
     },
     "execution_count": 43,
     "metadata": {},
     "output_type": "execute_result"
    }
   ],
   "source": [
    "def maximum(S):\n",
    "    m = float('-inf')\n",
    "    for k in S:\n",
    "        m = max(m,k)\n",
    "    return m\n",
    "\n",
    "s = {10,20,5,7,1}\n",
    "maximum(s)"
   ]
  },
  {
   "cell_type": "markdown",
   "metadata": {},
   "source": [
    "### Task 3:\n",
    "Write a function which returns the minimum key of a given set."
   ]
  },
  {
   "cell_type": "code",
   "execution_count": 85,
   "metadata": {},
   "outputs": [],
   "source": [
    "def search(S,k):\n",
    "    pass"
   ]
  },
  {
   "cell_type": "markdown",
   "metadata": {},
   "source": [
    "## 4. Predecessor and Successor\n",
    "Assume `s` is an ordered set. If `s = {10,20,30}`, the predecessor and the successor of `20` are `10` and `30` respectively.  \n",
    "**Note:** Printing `None` does not show anything.  \n",
    "**Task 4.1:** Try calling `predecessor` with different parameters."
   ]
  },
  {
   "cell_type": "code",
   "execution_count": 12,
   "metadata": {},
   "outputs": [
    {
     "data": {
      "text/plain": [
       "1"
      ]
     },
     "execution_count": 12,
     "metadata": {},
     "output_type": "execute_result"
    }
   ],
   "source": [
    "def predecessor(S,x): # x is the pointer (index) of the data\n",
    "    if x == 0 or x >= len(S):\n",
    "        return None\n",
    "    else:\n",
    "        return x-1\n",
    "    \n",
    "s = {10,20,30} # Assume ordered set\n",
    "predecessor(s,2) # should return 0"
   ]
  },
  {
   "cell_type": "markdown",
   "metadata": {},
   "source": [
    "### Task 4.2:\n",
    "Write a function to return a successor. Use the previous predecessor function as a guideline.  \n",
    "**Note:** If you take longer than 10 minutes, move on to next problem."
   ]
  },
  {
   "cell_type": "code",
   "execution_count": 11,
   "metadata": {},
   "outputs": [],
   "source": [
    "def successor(S,k):\n",
    "    pass\n",
    "\n",
    "s = {10,20,30} # Assume ordered set\n",
    "successor(s,0)"
   ]
  }
 ],
 "metadata": {
  "kernelspec": {
   "display_name": "Python 3",
   "language": "python",
   "name": "python3"
  },
  "language_info": {
   "codemirror_mode": {
    "name": "ipython",
    "version": 3
   },
   "file_extension": ".py",
   "mimetype": "text/x-python",
   "name": "python",
   "nbconvert_exporter": "python",
   "pygments_lexer": "ipython3",
   "version": "3.5.4"
  }
 },
 "nbformat": 4,
 "nbformat_minor": 2
}
