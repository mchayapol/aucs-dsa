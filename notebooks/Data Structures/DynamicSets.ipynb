{
  "cells": [
    {
      "metadata": {},
      "cell_type": "markdown",
      "source": "# Set in Python\n**List** is a basic data structure in Python. It can be accessed as Array with index. However, **Set** is different. Python's Set is the same as set in mathemetics. **List** and **Set** are different.\n1. List has order, Set does not.\n2. List holds duplicate values, Set does not."
    },
    {
      "metadata": {},
      "cell_type": "markdown",
      "source": "## 1. Create List and Set\nObserve the following object creation for `list` and `set`. Set `s\n` does not hold duplicate value."
    },
    {
      "metadata": {
        "trusted": false
      },
      "cell_type": "code",
      "source": "l = list(\"Hello World\")\ns = set(\"Hello World\")\n# or this works too\ns = {'H','e','l','l','o',' ','W','o','r','l','d'}",
      "execution_count": 59,
      "outputs": []
    },
    {
      "metadata": {
        "trusted": false
      },
      "cell_type": "code",
      "source": "l",
      "execution_count": 60,
      "outputs": [
        {
          "data": {
            "text/plain": "['H', 'e', 'l', 'l', 'o', ' ', 'W', 'o', 'r', 'l', 'd']"
          },
          "execution_count": 60,
          "metadata": {},
          "output_type": "execute_result"
        }
      ]
    },
    {
      "metadata": {
        "trusted": false
      },
      "cell_type": "code",
      "source": "s",
      "execution_count": 61,
      "outputs": [
        {
          "data": {
            "text/plain": "{' ', 'H', 'W', 'd', 'e', 'l', 'o', 'r'}"
          },
          "execution_count": 61,
          "metadata": {},
          "output_type": "execute_result"
        }
      ]
    },
    {
      "metadata": {},
      "cell_type": "markdown",
      "source": "### Task 1:\nCheck the type of `l` and `s`.  \nCheck the type of a Python variable with ```type(varname)```.  \nReplace `pass` with your code."
    },
    {
      "metadata": {
        "trusted": false
      },
      "cell_type": "code",
      "source": "type(l)",
      "execution_count": 83,
      "outputs": []
    },
    {
      "metadata": {},
      "cell_type": "markdown",
      "source": "## 2. Set Operations\n`set` holds pointers of elements, not the value itself.  \nObserve that `y` points to `x` hence they points to the same data object `10` in the computer memory. `set` is immutable, therefore we cannot change the member of it unless using set operations.\n- union `|` \n- difference `-`\n- intersect `&`"
    },
    {
      "metadata": {
        "trusted": false
      },
      "cell_type": "code",
      "source": "s = set()\nx = 10\ny = x\ns = s | {x}\ns = s | {y}",
      "execution_count": 17,
      "outputs": []
    },
    {
      "metadata": {},
      "cell_type": "markdown",
      "source": "### Task 2.1:\nEnter `s` to print out the content/value of `s`.\nWhat are in the set?  \nShould there not be two `10`s? Why?"
    },
    {
      "metadata": {
        "trusted": false
      },
      "cell_type": "code",
      "source": "pass",
      "execution_count": 84,
      "outputs": []
    },
    {
      "metadata": {},
      "cell_type": "markdown",
      "source": "### Task 2.2:\nConsider the following. What are in the set?  \nAdd a new line in the following cell with just `s` to print out the content."
    },
    {
      "metadata": {
        "trusted": false
      },
      "cell_type": "code",
      "source": "s = set()\nx = 10\ny = 10\ns = s | {x}\ns = s | {y}",
      "execution_count": 21,
      "outputs": []
    },
    {
      "metadata": {},
      "cell_type": "markdown",
      "source": "### Task 2.3:\nUse set difference to delete a set member. Given set `s` with initial values {10,20,30}.\n- Use set difference to delete 10\n- Print out the content of s"
    },
    {
      "metadata": {
        "trusted": false
      },
      "cell_type": "code",
      "source": "s =  {10, 20, 30}",
      "execution_count": 30,
      "outputs": []
    },
    {
      "metadata": {},
      "cell_type": "markdown",
      "source": "Check the existence of a value.  \nUse set intersec operation.  \nHowever, there is no direct API for existence checking; therefore we determine from the length of the new set."
    },
    {
      "metadata": {
        "trusted": false
      },
      "cell_type": "code",
      "source": "s = {10, 20, 30}\nk = 40\ns = s & {k}\nlen(s)",
      "execution_count": 40,
      "outputs": [
        {
          "data": {
            "text/plain": "0"
          },
          "execution_count": 40,
          "metadata": {},
          "output_type": "execute_result"
        }
      ]
    },
    {
      "metadata": {},
      "cell_type": "markdown",
      "source": "### Task 2.4:\nMake it a function.\nWrite a function to check whether a key exists in the set.  \nThe given code skeleton is incomplete. Replace `pass` with your code.  \n** Hint: ** `return` something."
    },
    {
      "metadata": {
        "trusted": false
      },
      "cell_type": "code",
      "source": "s = {10, 20, 30}\ndef search(S,k):\n    pass",
      "execution_count": 41,
      "outputs": []
    },
    {
      "metadata": {},
      "cell_type": "markdown",
      "source": "## 3. Max and Min\nOnce again, there is no direct API to serve such purposes. A solution is to do **O(n)** search.  \nThe following function returns the maximum key of a given set.  \nAssume that the set holds only numbers."
    },
    {
      "metadata": {
        "trusted": false
      },
      "cell_type": "code",
      "source": "def maximum(S):\n    m = float('-inf')\n    for k in S:\n        m = max(m,k)\n    return m\n\ns = {10,20,5,7,1}\nmaximum(s)",
      "execution_count": 43,
      "outputs": [
        {
          "data": {
            "text/plain": "20"
          },
          "execution_count": 43,
          "metadata": {},
          "output_type": "execute_result"
        }
      ]
    },
    {
      "metadata": {},
      "cell_type": "markdown",
      "source": "### Task 3:\nWrite a function which returns the minimum key of a given set."
    },
    {
      "metadata": {
        "trusted": false
      },
      "cell_type": "code",
      "source": "def search(S,k):\n    pass",
      "execution_count": 85,
      "outputs": []
    },
    {
      "metadata": {},
      "cell_type": "markdown",
      "source": "## 4. Predecessor and Successor\nAssume `s` is an ordered set. If `s = {10,20,30}`, the predecessor and the successor of `20` are `10` and `30` respectively.  \n**Note:** Printing `None` does not show anything.  \n**Task 4.1:** Try calling `predecessor` with different parameters."
    },
    {
      "metadata": {
        "trusted": true
      },
      "cell_type": "code",
      "source": "def predecessor(S,x): # x is the pointer (index) of the data\n    if x == 0 or x >= len(S):\n        return None\n    else:\n        return x-1\n    \ns = {10,20,30} # Assume ordered set\npredecessor(s,2) # should return 1",
      "execution_count": 1,
      "outputs": [
        {
          "output_type": "execute_result",
          "execution_count": 1,
          "data": {
            "text/plain": "1"
          },
          "metadata": {}
        }
      ]
    },
    {
      "metadata": {},
      "cell_type": "markdown",
      "source": "### Task 4.2:\nWrite a function to return a successor. Use the previous predecessor function as a guideline.  \n**Note:** If you take longer than 10 minutes, move on to next problem."
    },
    {
      "metadata": {
        "trusted": false
      },
      "cell_type": "code",
      "source": "def successor(S,k):\n    pass\n\ns = {10,20,30} # Assume ordered set\nsuccessor(s,0)",
      "execution_count": 11,
      "outputs": []
    }
  ],
  "metadata": {
    "kernelspec": {
      "name": "python3",
      "display_name": "Python 3",
      "language": "python"
    },
    "language_info": {
      "mimetype": "text/x-python",
      "nbconvert_exporter": "python",
      "name": "python",
      "pygments_lexer": "ipython3",
      "version": "3.5.4",
      "file_extension": ".py",
      "codemirror_mode": {
        "version": 3,
        "name": "ipython"
      }
    }
  },
  "nbformat": 4,
  "nbformat_minor": 2
}